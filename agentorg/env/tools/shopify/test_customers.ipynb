{
 "cells": [
  {
   "cell_type": "code",
   "execution_count": null,
   "metadata": {},
   "outputs": [
    {
     "name": "stdout",
     "output_type": "stream",
     "text": [
      "The autoreload extension is already loaded. To reload it, use:\n",
      "  %reload_ext autoreload\n"
     ]
    }
   ],
   "source": [
    "import os\n",
    "os.chdir(\"/Users/isaac/programming/articulateai/AgentOrg\")\n",
    "\n",
    "from dotenv import load_dotenv\n",
    "load_dotenv()\n",
    "\n",
    "%load_ext autoreload\n",
    "%autoreload 2"
   ]
  },
  {
   "cell_type": "code",
   "execution_count": 40,
   "metadata": {},
   "outputs": [],
   "source": [
    "def detool(func):\n",
    "    return func().func"
   ]
  },
  {
   "cell_type": "code",
   "execution_count": 23,
   "metadata": {},
   "outputs": [],
   "source": [
    "isaac_arklex_token = \"shcrt_7b474343a30a7980108e0f5276e7fa99\"\n",
    "isaac_personal_token = \"shcrt_6e107b09e9105f604a6f8f165ac9c355\""
   ]
  },
  {
   "cell_type": "code",
   "execution_count": 42,
   "metadata": {},
   "outputs": [
    {
     "name": "stdout",
     "output_type": "stream",
     "text": [
      "isaac_personal: gid://shopify/Customer/7534568800369\n",
      "isaac_arklex: gid://shopify/Customer/7531428184177\n"
     ]
    }
   ],
   "source": [
    "from agentorg.tools.shopify_new.get_user_id import get_user_id\n",
    "get_user_id = detool(get_user_id)\n",
    "\n",
    "print(f'isaac_personal: {get_user_id(isaac_personal_token)}')\n",
    "print(f'isaac_arklex: {get_user_id(isaac_arklex_token)}')"
   ]
  },
  {
   "cell_type": "code",
   "execution_count": 109,
   "metadata": {},
   "outputs": [
    {
     "name": "stdout",
     "output_type": "stream",
     "text": [
      "isaac_personal:\n"
     ]
    },
    {
     "data": {
      "text/plain": [
       "{'id': 'gid://shopify/Customer/7534568800369',\n",
       " 'firstName': None,\n",
       " 'lastName': None,\n",
       " 'emailAddress': {'emailAddress': 'isaacsong03@gmail.com'},\n",
       " 'phoneNumber': None,\n",
       " 'creationDate': '2025-01-17T16:16:59Z',\n",
       " 'defaultAddress': None,\n",
       " 'orders': {'nodes': [{'id': 'gid://shopify/Order/5894711967857'}]}}"
      ]
     },
     "metadata": {},
     "output_type": "display_data"
    },
    {
     "name": "stdout",
     "output_type": "stream",
     "text": [
      "--\n",
      "\n",
      "isaac_arklex:\n"
     ]
    },
    {
     "data": {
      "text/plain": [
       "{'id': 'gid://shopify/Customer/7531428184177',\n",
       " 'firstName': None,\n",
       " 'lastName': None,\n",
       " 'emailAddress': {'emailAddress': 'isaac.song@arklex.ai'},\n",
       " 'phoneNumber': None,\n",
       " 'creationDate': '2025-01-15T14:43:18Z',\n",
       " 'defaultAddress': None,\n",
       " 'orders': {'nodes': [{'id': 'gid://shopify/Order/5894700302449'}]}}"
      ]
     },
     "metadata": {},
     "output_type": "display_data"
    }
   ],
   "source": [
    "from agentorg.tools.shopify_new.get_user_details import get_user_details\n",
    "get_user_details = detool(get_user_details)\n",
    "\n",
    "print(f'isaac_personal:')\n",
    "display(get_user_details(isaac_personal_token))\n",
    "\n",
    "print('--')\n",
    "print()\n",
    "\n",
    "print(f'isaac_arklex:')\n",
    "display(get_user_details(isaac_arklex_token))"
   ]
  },
  {
   "cell_type": "code",
   "execution_count": 110,
   "metadata": {},
   "outputs": [
    {
     "name": "stdout",
     "output_type": "stream",
     "text": [
      "isaac_personal:\n"
     ]
    },
    {
     "data": {
      "text/plain": [
       "{'id': 'gid://shopify/Order/5894711967857',\n",
       " 'name': '#1006',\n",
       " 'totalPrice': {'amount': '402.92'},\n",
       " 'lineItems': {'nodes': [{'id': 'gid://shopify/LineItem/14487494623345',\n",
       "    'name': 'Denim Apron with 5 Pockets | Multipurpose Canvas Apron for BBQ, Gardening, Painting, Carpentry - Navy Blue',\n",
       "    'quantity': 1},\n",
       "   {'id': 'gid://shopify/LineItem/14489753092209',\n",
       "    'name': 'Bedding Set Solid Color Luxury Bedding Kit Rayon Satin Duvet Cover Set Twin Queen King Size Bed Set 2pcs/3pcs/4pcs - Amber Green / Twin Size 4pcs',\n",
       "    'quantity': 1}],\n",
       "  'pageInfo': {'endCursor': 'eyJsYXN0X2lkIjoxNDQ4OTc1MzA5MjIwOSwibGFzdF92YWx1ZSI6MTQ0ODk3NTMwOTIyMDl9',\n",
       "   'hasNextPage': True,\n",
       "   'hasPreviousPage': False,\n",
       "   'startCursor': 'eyJsYXN0X2lkIjoxNDQ4NzQ5NDYyMzM0NSwibGFzdF92YWx1ZSI6MTQ0ODc0OTQ2MjMzNDV9'}}}"
      ]
     },
     "metadata": {},
     "output_type": "display_data"
    },
    {
     "name": "stdout",
     "output_type": "stream",
     "text": [
      "next page:\n"
     ]
    },
    {
     "data": {
      "text/plain": [
       "({'id': 'gid://shopify/Order/5894711967857',\n",
       "  'name': '#1006',\n",
       "  'totalPrice': {'amount': '402.92'},\n",
       "  'lineItems': {'nodes': [{'id': 'gid://shopify/LineItem/14489753124977',\n",
       "     'name': 'Bedding Set Solid Color Luxury Bedding Kit Rayon Satin Duvet Cover Set Twin Queen King Size Bed Set 2pcs/3pcs/4pcs - Black / Queen Size 3pcs',\n",
       "     'quantity': 1},\n",
       "    {'id': 'gid://shopify/LineItem/14489753157745',\n",
       "     'name': 'Bedding Set Solid Color Luxury Bedding Kit Rayon Satin Duvet Cover Set Twin Queen King Size Bed Set 2pcs/3pcs/4pcs - Black / King Size 3pcs',\n",
       "     'quantity': 1}],\n",
       "   'pageInfo': {'endCursor': 'eyJsYXN0X2lkIjoxNDQ4OTc1MzE1Nzc0NSwibGFzdF92YWx1ZSI6MTQ0ODk3NTMxNTc3NDV9',\n",
       "    'hasNextPage': True,\n",
       "    'hasPreviousPage': True,\n",
       "    'startCursor': 'eyJsYXN0X2lkIjoxNDQ4OTc1MzEyNDk3NywibGFzdF92YWx1ZSI6MTQ0ODk3NTMxMjQ5Nzd9'}}},\n",
       " {'endCursor': 'eyJsYXN0X2lkIjoxNDQ4OTc1MzE1Nzc0NSwibGFzdF92YWx1ZSI6MTQ0ODk3NTMxNTc3NDV9',\n",
       "  'hasNextPage': True,\n",
       "  'hasPreviousPage': True,\n",
       "  'startCursor': 'eyJsYXN0X2lkIjoxNDQ4OTc1MzEyNDk3NywibGFzdF92YWx1ZSI6MTQ0ODk3NTMxMjQ5Nzd9'})"
      ]
     },
     "metadata": {},
     "output_type": "display_data"
    }
   ],
   "source": [
    "from agentorg.tools.shopify_new.get_order import get_order\n",
    "get_order = detool(get_order)\n",
    "\n",
    "print(f'isaac_personal:')\n",
    "order = get_order(isaac_personal_token, 'gid://shopify/Order/5894711967857', limit=2)\n",
    "display(order[0])\n",
    "\n",
    "print(f'next page:')\n",
    "display(get_order(isaac_personal_token, 'gid://shopify/Order/5894711967857', limit=2, navigate='next', pageInfo=order[1]))\n"
   ]
  },
  {
   "cell_type": "code",
   "execution_count": 120,
   "metadata": {},
   "outputs": [
    {
     "name": "stdout",
     "output_type": "stream",
     "text": [
      "isaac_personal:\n"
     ]
    },
    {
     "data": {
      "text/plain": [
       "({'nodes': [{'id': 'gid://shopify/Order/5894711967857',\n",
       "    'name': '#1006',\n",
       "    'updatedAt': '2025-01-23T18:24:04Z',\n",
       "    'statusPageUrl': 'https://xu1e3z-yi.myshopify.com/60183707761/orders/1144a6c0ce425043659d09bbb3687f60/authenticate?key=72b4275d8be6a73950dba9b188e14265',\n",
       "    'totalPrice': {'amount': '402.92'},\n",
       "    'lineItems': {'nodes': [{'name': 'Denim Apron with 5 Pockets | Multipurpose Canvas Apron for BBQ, Gardening, Painting, Carpentry - Navy Blue',\n",
       "       'quantity': 1,\n",
       "       'totalPrice': {'amount': '19.99'}},\n",
       "      {'name': 'Bedding Set Solid Color Luxury Bedding Kit Rayon Satin Duvet Cover Set Twin Queen King Size Bed Set 2pcs/3pcs/4pcs - Amber Green / Twin Size 4pcs',\n",
       "       'quantity': 1,\n",
       "       'totalPrice': {'amount': '47.99'}},\n",
       "      {'name': 'Bedding Set Solid Color Luxury Bedding Kit Rayon Satin Duvet Cover Set Twin Queen King Size Bed Set 2pcs/3pcs/4pcs - Black / Queen Size 3pcs',\n",
       "       'quantity': 1,\n",
       "       'totalPrice': {'amount': '44.99'}},\n",
       "      {'name': 'Bedding Set Solid Color Luxury Bedding Kit Rayon Satin Duvet Cover Set Twin Queen King Size Bed Set 2pcs/3pcs/4pcs - Black / King Size 3pcs',\n",
       "       'quantity': 1,\n",
       "       'totalPrice': {'amount': '50.99'}},\n",
       "      {'name': 'Bedding Set Solid Color Luxury Bedding Kit Rayon Satin Duvet Cover Set Twin Queen King Size Bed Set 2pcs/3pcs/4pcs - Amber Green / Queen Size 4pcs',\n",
       "       'quantity': 1,\n",
       "       'totalPrice': {'amount': '56.99'}}]}}],\n",
       "  'pageInfo': {'endCursor': 'eyJsYXN0X2lkIjo1ODk0NzExOTY3ODU3LCJsYXN0X3ZhbHVlIjoiNTg5NDcxMTk2Nzg1NyJ9',\n",
       "   'hasNextPage': False,\n",
       "   'hasPreviousPage': False,\n",
       "   'startCursor': 'eyJsYXN0X2lkIjo1ODk0NzExOTY3ODU3LCJsYXN0X3ZhbHVlIjoiNTg5NDcxMTk2Nzg1NyJ9'}},\n",
       " {'endCursor': 'eyJsYXN0X2lkIjo1ODk0NzExOTY3ODU3LCJsYXN0X3ZhbHVlIjoiNTg5NDcxMTk2Nzg1NyJ9',\n",
       "  'hasNextPage': False,\n",
       "  'hasPreviousPage': False,\n",
       "  'startCursor': 'eyJsYXN0X2lkIjo1ODk0NzExOTY3ODU3LCJsYXN0X3ZhbHVlIjoiNTg5NDcxMTk2Nzg1NyJ9'})"
      ]
     },
     "metadata": {},
     "output_type": "display_data"
    },
    {
     "name": "stdout",
     "output_type": "stream",
     "text": [
      "next page:\n"
     ]
    },
    {
     "data": {
      "text/plain": [
       "'error: no more pages after'"
      ]
     },
     "metadata": {},
     "output_type": "display_data"
    }
   ],
   "source": [
    "from agentorg.tools.shopify_new.preview_orders import preview_orders\n",
    "preview_orders = detool(preview_orders)\n",
    "\n",
    "print(f'isaac_personal:')\n",
    "order = preview_orders(isaac_personal_token, limit=2)\n",
    "display(order)\n",
    "\n",
    "print(f'next page:')\n",
    "display(preview_orders(isaac_personal_token, limit=2, navigate='next', pageInfo=order[1]))\n"
   ]
  }
 ],
 "metadata": {
  "kernelspec": {
   "display_name": "agentorg",
   "language": "python",
   "name": "python3"
  },
  "language_info": {
   "codemirror_mode": {
    "name": "ipython",
    "version": 3
   },
   "file_extension": ".py",
   "mimetype": "text/x-python",
   "name": "python",
   "nbconvert_exporter": "python",
   "pygments_lexer": "ipython3",
   "version": "3.10.15"
  }
 },
 "nbformat": 4,
 "nbformat_minor": 2
}
