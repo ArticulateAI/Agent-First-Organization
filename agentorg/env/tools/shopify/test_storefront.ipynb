{
 "cells": [
  {
   "cell_type": "code",
   "execution_count": 6,
   "metadata": {},
   "outputs": [
    {
     "name": "stdout",
     "output_type": "stream",
     "text": [
      "The autoreload extension is already loaded. To reload it, use:\n",
      "  %reload_ext autoreload\n"
     ]
    }
   ],
   "source": [
    "import os\n",
    "os.chdir(\"/Users/isaac/programming/articulateai/AgentOrg\")\n",
    "\n",
    "import shopify\n",
    "\n",
    "from dotenv import load_dotenv\n",
    "load_dotenv()\n",
    "\n",
    "from agentorg.tools.shopify_new.utils_cart import *\n",
    "\n",
    "%load_ext autoreload\n",
    "%autoreload 2"
   ]
  },
  {
   "cell_type": "code",
   "execution_count": 7,
   "metadata": {},
   "outputs": [],
   "source": [
    "def detool(func):\n",
    "    return func().func"
   ]
  },
  {
   "cell_type": "code",
   "execution_count": 9,
   "metadata": {},
   "outputs": [],
   "source": [
    "cart_id = create_cart()"
   ]
  },
  {
   "cell_type": "code",
   "execution_count": 44,
   "metadata": {},
   "outputs": [
    {
     "data": {
      "text/plain": [
       "{'id': 'gid://shopify/Cart/Z2NwLXVzLWVhc3QxOjAxSkpBUTlYWkE2UjFFMlFUTTBFQlFKQ0hY?key=e6f8f166d6431662802ffcf927345aff',\n",
       " 'checkoutUrl': 'https://xu1e3z-yi.myshopify.com/cart/c/Z2NwLXVzLWVhc3QxOjAxSkpBUTlYWkE2UjFFMlFUTTBFQlFKQ0hY?key=e6f8f166d6431662802ffcf927345aff',\n",
       " 'lines': {'nodes': [],\n",
       "  'pageInfo': {'endCursor': None,\n",
       "   'hasNextPage': False,\n",
       "   'hasPreviousPage': False,\n",
       "   'startCursor': None}}}"
      ]
     },
     "execution_count": 44,
     "metadata": {},
     "output_type": "execute_result"
    }
   ],
   "source": [
    "from agentorg.tools.shopify_new.get_cart import get_cart\n",
    "get_cart = detool(get_cart)\n",
    "\n",
    "get_cart(cart_id)"
   ]
  },
  {
   "cell_type": "code",
   "execution_count": null,
   "metadata": {},
   "outputs": [
    {
     "data": {
      "text/plain": [
       "{'data': {'cartLinesAdd': {'cart': {'checkoutUrl': 'https://xu1e3z-yi.myshopify.com/cart/c/Z2NwLXVzLWVhc3QxOjAxSkpBUTlYWkE2UjFFMlFUTTBFQlFKQ0hY?key=e6f8f166d6431662802ffcf927345aff'}}}}"
      ]
     },
     "execution_count": 48,
     "metadata": {},
     "output_type": "execute_result"
    }
   ],
   "source": [
    "from agentorg.tools.shopify_new.cart_add_items import cart_add_items\n",
    "cart_add_items = detool(cart_add_items)\n",
    "\n",
    "cart_add_items(cart_id, [(\"gid://shopify/ProductVariant/41552098885745\", 1), (\"gid://shopify/ProductVariant/41552094527601\", 10)])\n"
   ]
  },
  {
   "cell_type": "code",
   "execution_count": null,
   "metadata": {},
   "outputs": [],
   "source": []
  }
 ],
 "metadata": {
  "kernelspec": {
   "display_name": "agentorg",
   "language": "python",
   "name": "python3"
  },
  "language_info": {
   "codemirror_mode": {
    "name": "ipython",
    "version": 3
   },
   "file_extension": ".py",
   "mimetype": "text/x-python",
   "name": "python",
   "nbconvert_exporter": "python",
   "pygments_lexer": "ipython3",
   "version": "3.10.15"
  }
 },
 "nbformat": 4,
 "nbformat_minor": 2
}
