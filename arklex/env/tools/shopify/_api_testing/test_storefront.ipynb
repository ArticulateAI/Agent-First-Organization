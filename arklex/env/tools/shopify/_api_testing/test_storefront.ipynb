{
 "cells": [
  {
   "cell_type": "code",
   "execution_count": 3,
   "metadata": {},
   "outputs": [
    {
     "name": "stdout",
     "output_type": "stream",
     "text": [
      "The autoreload extension is already loaded. To reload it, use:\n",
      "  %reload_ext autoreload\n"
     ]
    }
   ],
   "source": [
    "import os\n",
    "os.chdir(\"/Users/isaac/programming/articulateai/Agent-First-Organization\")\n",
    "\n",
    "from dotenv import load_dotenv\n",
    "load_dotenv()\n",
    "\n",
    "from arklex.env.tools.tools import untool\n",
    "from arklex.env.tools.shopify.utils_cart import *\n",
    "\n",
    "%load_ext autoreload\n",
    "%autoreload 2"
   ]
  },
  {
   "cell_type": "code",
   "execution_count": 4,
   "metadata": {},
   "outputs": [],
   "source": [
    "# cart_id = create_cart()\n",
    "cart_cookie = \"Z2NwLXVzLWVhc3QxOjAxSko1WEdGMUE0TlNSRUFURFBaNktOOFc4%3Fkey%3D377f7c09745def6e09637979793eaa38\"\n",
    "cart_id_with_key = get_cart_id_from_cookie(cart_cookie)\n",
    "cart_id = cart_id_with_key.split(\"?\")[0]"
   ]
  },
  {
   "cell_type": "code",
   "execution_count": 5,
   "metadata": {},
   "outputs": [
    {
     "data": {
      "text/plain": [
       "'gid://shopify/Cart/Z2NwLXVzLWVhc3QxOjAxSko1WEdGMUE0TlNSRUFURFBaNktOOFc4'"
      ]
     },
     "execution_count": 5,
     "metadata": {},
     "output_type": "execute_result"
    }
   ],
   "source": [
    "cart_id"
   ]
  },
  {
   "cell_type": "code",
   "execution_count": 6,
   "metadata": {},
   "outputs": [
    {
     "data": {
      "text/plain": [
       "({'id': 'gid://shopify/Cart/Z2NwLXVzLWVhc3QxOjAxSko1WEdGMUE0TlNSRUFURFBaNktOOFc4',\n",
       "  'checkoutUrl': 'https://xu1e3z-yi.myshopify.com/cart/c/Z2NwLXVzLWVhc3QxOjAxSko1WEdGMUE0TlNSRUFURFBaNktOOFc4',\n",
       "  'lines': {'nodes': [{'id': 'gid://shopify/CartLine/9839bdad-bb55-4576-a20d-e6fafbbdc5ec?cart=Z2NwLXVzLWVhc3QxOjAxSko1WEdGMUE0TlNSRUFURFBaNktOOFc4',\n",
       "     'quantity': 10,\n",
       "     'merchandise': {'id': 'gid://shopify/ProductVariant/41552094527601',\n",
       "      'title': '5  winered / 50x50cm no filling',\n",
       "      'product': {'title': 'Inyahome New Art Velvet Yellow Blue Pink Solid Color Cushion Cover Pillow Cover Pillow Case Home Decorative Sofa Throw Decor',\n",
       "       'id': 'gid://shopify/Product/7296581337201'}}},\n",
       "    {'id': 'gid://shopify/CartLine/3f98100f-5c61-4986-9884-c1f19f97e755?cart=Z2NwLXVzLWVhc3QxOjAxSko1WEdGMUE0TlNSRUFURFBaNktOOFc4',\n",
       "     'quantity': 8,\n",
       "     'merchandise': {'id': 'gid://shopify/ProductVariant/41552098885745',\n",
       "      'title': 'Amber Green / Twin Size 3pcs',\n",
       "      'product': {'title': 'Bedding Set Solid Color Luxury Bedding Kit Rayon Satin Duvet Cover Set Twin Queen King Size Bed Set 2pcs/3pcs/4pcs',\n",
       "       'id': 'gid://shopify/Product/7296581763185'}}}],\n",
       "   'pageInfo': {'endCursor': 'eyJsYXN0X2lkIjoyLCJsYXN0X3ZhbHVlIjoiM2Y5ODEwMGYtNWM2MS00OTg2LTk4ODQtYzFmMTlmOTdlNzU1In0=',\n",
       "    'hasNextPage': False,\n",
       "    'hasPreviousPage': False,\n",
       "    'startCursor': 'eyJsYXN0X2lkIjoxLCJsYXN0X3ZhbHVlIjoiOTgzOWJkYWQtYmI1NS00NTc2LWEyMGQtZTZmYWZiYmRjNWVjIn0='}}},\n",
       " {'endCursor': 'eyJsYXN0X2lkIjoyLCJsYXN0X3ZhbHVlIjoiM2Y5ODEwMGYtNWM2MS00OTg2LTk4ODQtYzFmMTlmOTdlNzU1In0=',\n",
       "  'hasNextPage': False,\n",
       "  'hasPreviousPage': False,\n",
       "  'startCursor': 'eyJsYXN0X2lkIjoxLCJsYXN0X3ZhbHVlIjoiOTgzOWJkYWQtYmI1NS00NTc2LWEyMGQtZTZmYWZiYmRjNWVjIn0='})"
      ]
     },
     "metadata": {},
     "output_type": "display_data"
    },
    {
     "data": {
      "text/plain": [
       "({'id': 'gid://shopify/Cart/Z2NwLXVzLWVhc3QxOjAxSko1WEdGMUE0TlNSRUFURFBaNktOOFc4?key=377f7c09745def6e09637979793eaa38',\n",
       "  'checkoutUrl': 'https://xu1e3z-yi.myshopify.com/cart/c/Z2NwLXVzLWVhc3QxOjAxSko1WEdGMUE0TlNSRUFURFBaNktOOFc4?key=377f7c09745def6e09637979793eaa38',\n",
       "  'lines': {'nodes': [{'id': 'gid://shopify/CartLine/9839bdad-bb55-4576-a20d-e6fafbbdc5ec?cart=Z2NwLXVzLWVhc3QxOjAxSko1WEdGMUE0TlNSRUFURFBaNktOOFc4',\n",
       "     'quantity': 10,\n",
       "     'merchandise': {'id': 'gid://shopify/ProductVariant/41552094527601',\n",
       "      'title': '5  winered / 50x50cm no filling',\n",
       "      'product': {'title': 'Inyahome New Art Velvet Yellow Blue Pink Solid Color Cushion Cover Pillow Cover Pillow Case Home Decorative Sofa Throw Decor',\n",
       "       'id': 'gid://shopify/Product/7296581337201'}}},\n",
       "    {'id': 'gid://shopify/CartLine/3f98100f-5c61-4986-9884-c1f19f97e755?cart=Z2NwLXVzLWVhc3QxOjAxSko1WEdGMUE0TlNSRUFURFBaNktOOFc4',\n",
       "     'quantity': 8,\n",
       "     'merchandise': {'id': 'gid://shopify/ProductVariant/41552098885745',\n",
       "      'title': 'Amber Green / Twin Size 3pcs',\n",
       "      'product': {'title': 'Bedding Set Solid Color Luxury Bedding Kit Rayon Satin Duvet Cover Set Twin Queen King Size Bed Set 2pcs/3pcs/4pcs',\n",
       "       'id': 'gid://shopify/Product/7296581763185'}}}],\n",
       "   'pageInfo': {'endCursor': 'eyJsYXN0X2lkIjoyLCJsYXN0X3ZhbHVlIjoiM2Y5ODEwMGYtNWM2MS00OTg2LTk4ODQtYzFmMTlmOTdlNzU1In0=',\n",
       "    'hasNextPage': False,\n",
       "    'hasPreviousPage': False,\n",
       "    'startCursor': 'eyJsYXN0X2lkIjoxLCJsYXN0X3ZhbHVlIjoiOTgzOWJkYWQtYmI1NS00NTc2LWEyMGQtZTZmYWZiYmRjNWVjIn0='}}},\n",
       " {'endCursor': 'eyJsYXN0X2lkIjoyLCJsYXN0X3ZhbHVlIjoiM2Y5ODEwMGYtNWM2MS00OTg2LTk4ODQtYzFmMTlmOTdlNzU1In0=',\n",
       "  'hasNextPage': False,\n",
       "  'hasPreviousPage': False,\n",
       "  'startCursor': 'eyJsYXN0X2lkIjoxLCJsYXN0X3ZhbHVlIjoiOTgzOWJkYWQtYmI1NS00NTc2LWEyMGQtZTZmYWZiYmRjNWVjIn0='})"
      ]
     },
     "metadata": {},
     "output_type": "display_data"
    }
   ],
   "source": [
    "from arklex.env.tools.shopify.get_cart import get_cart\n",
    "get_cart = untool(get_cart)\n",
    "\n",
    "display(get_cart(cart_id))\n",
    "display(get_cart(cart_id_with_key))"
   ]
  },
  {
   "cell_type": "markdown",
   "metadata": {},
   "source": [
    "### All modifier calls below require cart_id_with_key"
   ]
  },
  {
   "cell_type": "code",
   "execution_count": 19,
   "metadata": {},
   "outputs": [
    {
     "data": {
      "text/plain": [
       "({'id': 'gid://shopify/Cart/Z2NwLXVzLWVhc3QxOjAxSko1WEdGMUE0TlNSRUFURFBaNktOOFc4',\n",
       "  'checkoutUrl': 'https://xu1e3z-yi.myshopify.com/cart/c/Z2NwLXVzLWVhc3QxOjAxSko1WEdGMUE0TlNSRUFURFBaNktOOFc4',\n",
       "  'lines': {'nodes': [{'id': 'gid://shopify/CartLine/449bd964-7cc5-4900-87c1-552a73616328?cart=Z2NwLXVzLWVhc3QxOjAxSko1WEdGMUE0TlNSRUFURFBaNktOOFc4',\n",
       "     'quantity': 10,\n",
       "     'merchandise': {'id': 'gid://shopify/ProductVariant/41552094527601',\n",
       "      'title': '5  winered / 50x50cm no filling',\n",
       "      'product': {'title': 'Inyahome New Art Velvet Yellow Blue Pink Solid Color Cushion Cover Pillow Cover Pillow Case Home Decorative Sofa Throw Decor',\n",
       "       'id': 'gid://shopify/Product/7296581337201'}}},\n",
       "    {'id': 'gid://shopify/CartLine/a3d1abf1-3fbd-4557-8ff3-a4acd716578a?cart=Z2NwLXVzLWVhc3QxOjAxSko1WEdGMUE0TlNSRUFURFBaNktOOFc4',\n",
       "     'quantity': 1,\n",
       "     'merchandise': {'id': 'gid://shopify/ProductVariant/41552098885745',\n",
       "      'title': 'Amber Green / Twin Size 3pcs',\n",
       "      'product': {'title': 'Bedding Set Solid Color Luxury Bedding Kit Rayon Satin Duvet Cover Set Twin Queen King Size Bed Set 2pcs/3pcs/4pcs',\n",
       "       'id': 'gid://shopify/Product/7296581763185'}}}],\n",
       "   'pageInfo': {'endCursor': 'eyJsYXN0X2lkIjoyLCJsYXN0X3ZhbHVlIjoiYTNkMWFiZjEtM2ZiZC00NTU3LThmZjMtYTRhY2Q3MTY1NzhhIn0=',\n",
       "    'hasNextPage': False,\n",
       "    'hasPreviousPage': False,\n",
       "    'startCursor': 'eyJsYXN0X2lkIjoxLCJsYXN0X3ZhbHVlIjoiNDQ5YmQ5NjQtN2NjNS00OTAwLTg3YzEtNTUyYTczNjE2MzI4In0='}}},\n",
       " {'endCursor': 'eyJsYXN0X2lkIjoyLCJsYXN0X3ZhbHVlIjoiYTNkMWFiZjEtM2ZiZC00NTU3LThmZjMtYTRhY2Q3MTY1NzhhIn0=',\n",
       "  'hasNextPage': False,\n",
       "  'hasPreviousPage': False,\n",
       "  'startCursor': 'eyJsYXN0X2lkIjoxLCJsYXN0X3ZhbHVlIjoiNDQ5YmQ5NjQtN2NjNS00OTAwLTg3YzEtNTUyYTczNjE2MzI4In0='})"
      ]
     },
     "execution_count": 19,
     "metadata": {},
     "output_type": "execute_result"
    }
   ],
   "source": [
    "from arklex.env.tools.shopify.cart_add_items import cart_add_items\n",
    "cart_add_items = untool(cart_add_items)\n",
    "\n",
    "cart_add_items(cart_id_with_key, [(\"gid://shopify/ProductVariant/41552098885745\", 1), (\"gid://shopify/ProductVariant/41552094527601\", 10)])\n",
    "get_cart(cart_id)"
   ]
  },
  {
   "cell_type": "code",
   "execution_count": 8,
   "metadata": {},
   "outputs": [
    {
     "data": {
      "text/plain": [
       "({'id': 'gid://shopify/Cart/Z2NwLXVzLWVhc3QxOjAxSko1WEdGMUE0TlNSRUFURFBaNktOOFc4',\n",
       "  'checkoutUrl': 'https://xu1e3z-yi.myshopify.com/cart/c/Z2NwLXVzLWVhc3QxOjAxSko1WEdGMUE0TlNSRUFURFBaNktOOFc4',\n",
       "  'lines': {'nodes': [{'id': 'gid://shopify/CartLine/9839bdad-bb55-4576-a20d-e6fafbbdc5ec?cart=Z2NwLXVzLWVhc3QxOjAxSko1WEdGMUE0TlNSRUFURFBaNktOOFc4',\n",
       "     'quantity': 20,\n",
       "     'merchandise': {'id': 'gid://shopify/ProductVariant/41552094527601',\n",
       "      'title': '5  winered / 50x50cm no filling',\n",
       "      'product': {'title': 'Inyahome New Art Velvet Yellow Blue Pink Solid Color Cushion Cover Pillow Cover Pillow Case Home Decorative Sofa Throw Decor',\n",
       "       'id': 'gid://shopify/Product/7296581337201'}}},\n",
       "    {'id': 'gid://shopify/CartLine/3f98100f-5c61-4986-9884-c1f19f97e755?cart=Z2NwLXVzLWVhc3QxOjAxSko1WEdGMUE0TlNSRUFURFBaNktOOFc4',\n",
       "     'quantity': 9,\n",
       "     'merchandise': {'id': 'gid://shopify/ProductVariant/41552098885745',\n",
       "      'title': 'Amber Green / Twin Size 3pcs',\n",
       "      'product': {'title': 'Bedding Set Solid Color Luxury Bedding Kit Rayon Satin Duvet Cover Set Twin Queen King Size Bed Set 2pcs/3pcs/4pcs',\n",
       "       'id': 'gid://shopify/Product/7296581763185'}}}],\n",
       "   'pageInfo': {'endCursor': 'eyJsYXN0X2lkIjoyLCJsYXN0X3ZhbHVlIjoiM2Y5ODEwMGYtNWM2MS00OTg2LTk4ODQtYzFmMTlmOTdlNzU1In0=',\n",
       "    'hasNextPage': False,\n",
       "    'hasPreviousPage': False,\n",
       "    'startCursor': 'eyJsYXN0X2lkIjoxLCJsYXN0X3ZhbHVlIjoiOTgzOWJkYWQtYmI1NS00NTc2LWEyMGQtZTZmYWZiYmRjNWVjIn0='}}},\n",
       " {'endCursor': 'eyJsYXN0X2lkIjoyLCJsYXN0X3ZhbHVlIjoiM2Y5ODEwMGYtNWM2MS00OTg2LTk4ODQtYzFmMTlmOTdlNzU1In0=',\n",
       "  'hasNextPage': False,\n",
       "  'hasPreviousPage': False,\n",
       "  'startCursor': 'eyJsYXN0X2lkIjoxLCJsYXN0X3ZhbHVlIjoiOTgzOWJkYWQtYmI1NS00NTc2LWEyMGQtZTZmYWZiYmRjNWVjIn0='})"
      ]
     },
     "execution_count": 8,
     "metadata": {},
     "output_type": "execute_result"
    }
   ],
   "source": [
    "from arklex.env.tools.shopify.cart_update_items import cart_update_items\n",
    "cart_update_items = untool(cart_update_items)\n",
    "\n",
    "cart_update_items(cart_id_with_key, \n",
    "                    [\n",
    "                        ('gid://shopify/CartLine/8acec0a3-a097-48cf-84b4-4306699f0173?cart=Z2NwLXVzLWVhc3QxOjAxSko1WEdGMUE0TlNSRUFURFBaNktOOFc4', 'gid://shopify/ProductVariant/41552094527601', 13), \n",
    "                        ('gid://shopify/CartLine/3f98100f-5c61-4986-9884-c1f19f97e755?cart=Z2NwLXVzLWVhc3QxOjAxSko1WEdGMUE0TlNSRUFURFBaNktOOFc4', 'gid://shopify/ProductVariant/41552098885745', 7)\n",
    "                    ])\n",
    "get_cart(cart_id)"
   ]
  },
  {
   "cell_type": "code",
   "execution_count": 9,
   "metadata": {},
   "outputs": [
    {
     "data": {
      "text/plain": [
       "({'id': 'gid://shopify/Cart/Z2NwLXVzLWVhc3QxOjAxSko1WEdGMUE0TlNSRUFURFBaNktOOFc4',\n",
       "  'checkoutUrl': 'https://xu1e3z-yi.myshopify.com/cart/c/Z2NwLXVzLWVhc3QxOjAxSko1WEdGMUE0TlNSRUFURFBaNktOOFc4',\n",
       "  'lines': {'nodes': [{'id': 'gid://shopify/CartLine/9839bdad-bb55-4576-a20d-e6fafbbdc5ec?cart=Z2NwLXVzLWVhc3QxOjAxSko1WEdGMUE0TlNSRUFURFBaNktOOFc4',\n",
       "     'quantity': 20,\n",
       "     'merchandise': {'id': 'gid://shopify/ProductVariant/41552094527601',\n",
       "      'title': '5  winered / 50x50cm no filling',\n",
       "      'product': {'title': 'Inyahome New Art Velvet Yellow Blue Pink Solid Color Cushion Cover Pillow Cover Pillow Case Home Decorative Sofa Throw Decor',\n",
       "       'id': 'gid://shopify/Product/7296581337201'}}},\n",
       "    {'id': 'gid://shopify/CartLine/3f98100f-5c61-4986-9884-c1f19f97e755?cart=Z2NwLXVzLWVhc3QxOjAxSko1WEdGMUE0TlNSRUFURFBaNktOOFc4',\n",
       "     'quantity': 9,\n",
       "     'merchandise': {'id': 'gid://shopify/ProductVariant/41552098885745',\n",
       "      'title': 'Amber Green / Twin Size 3pcs',\n",
       "      'product': {'title': 'Bedding Set Solid Color Luxury Bedding Kit Rayon Satin Duvet Cover Set Twin Queen King Size Bed Set 2pcs/3pcs/4pcs',\n",
       "       'id': 'gid://shopify/Product/7296581763185'}}}],\n",
       "   'pageInfo': {'endCursor': 'eyJsYXN0X2lkIjoyLCJsYXN0X3ZhbHVlIjoiM2Y5ODEwMGYtNWM2MS00OTg2LTk4ODQtYzFmMTlmOTdlNzU1In0=',\n",
       "    'hasNextPage': False,\n",
       "    'hasPreviousPage': False,\n",
       "    'startCursor': 'eyJsYXN0X2lkIjoxLCJsYXN0X3ZhbHVlIjoiOTgzOWJkYWQtYmI1NS00NTc2LWEyMGQtZTZmYWZiYmRjNWVjIn0='}}},\n",
       " {'endCursor': 'eyJsYXN0X2lkIjoyLCJsYXN0X3ZhbHVlIjoiM2Y5ODEwMGYtNWM2MS00OTg2LTk4ODQtYzFmMTlmOTdlNzU1In0=',\n",
       "  'hasNextPage': False,\n",
       "  'hasPreviousPage': False,\n",
       "  'startCursor': 'eyJsYXN0X2lkIjoxLCJsYXN0X3ZhbHVlIjoiOTgzOWJkYWQtYmI1NS00NTc2LWEyMGQtZTZmYWZiYmRjNWVjIn0='})"
      ]
     },
     "execution_count": 9,
     "metadata": {},
     "output_type": "execute_result"
    }
   ],
   "source": [
    "from arklex.env.tools.shopify.cart_remove_items import cart_remove_items\n",
    "cart_remove_items = untool(cart_remove_items)\n",
    "\n",
    "cart_remove_items(cart_id_with_key, ['gid://shopify/CartLine/8acec0a3-a097-48cf-84b4-4306699f0173?cart=Z2NwLXVzLWVhc3QxOjAxSko1WEdGMUE0TlNSRUFURFBaNktOOFc4'])\n",
    "get_cart(cart_id)"
   ]
  },
  {
   "cell_type": "code",
   "execution_count": 20,
   "metadata": {},
   "outputs": [
    {
     "name": "stdout",
     "output_type": "stream",
     "text": [
      "gid://shopify/Cart/Z2NwLXVzLWVhc3QxOjAxSko1WEdGMUE0TlNSRUFURFBaNktOOFc4?key=377f7c09745def6e09637979793eaa38 ['lines', 'nodes']\n"
     ]
    },
    {
     "data": {
      "text/plain": [
       "({'id': 'gid://shopify/Cart/Z2NwLXVzLWVhc3QxOjAxSko1WEdGMUE0TlNSRUFURFBaNktOOFc4',\n",
       "  'checkoutUrl': 'https://xu1e3z-yi.myshopify.com/cart/c/Z2NwLXVzLWVhc3QxOjAxSko1WEdGMUE0TlNSRUFURFBaNktOOFc4',\n",
       "  'lines': {'nodes': [],\n",
       "   'pageInfo': {'endCursor': None,\n",
       "    'hasNextPage': False,\n",
       "    'hasPreviousPage': False,\n",
       "    'startCursor': None}}},\n",
       " {'endCursor': None,\n",
       "  'hasNextPage': False,\n",
       "  'hasPreviousPage': False,\n",
       "  'startCursor': None})"
      ]
     },
     "execution_count": 20,
     "metadata": {},
     "output_type": "execute_result"
    }
   ],
   "source": [
    "from arklex.env.tools.shopify.cart_clear import cart_clear\n",
    "cart_clear = untool(cart_clear)\n",
    "\n",
    "cart_clear(cart_id_with_key)\n",
    "get_cart(cart_id)"
   ]
  },
  {
   "cell_type": "code",
   "execution_count": null,
   "metadata": {},
   "outputs": [],
   "source": []
  }
 ],
 "metadata": {
  "kernelspec": {
   "display_name": "agentorg",
   "language": "python",
   "name": "python3"
  },
  "language_info": {
   "codemirror_mode": {
    "name": "ipython",
    "version": 3
   },
   "file_extension": ".py",
   "mimetype": "text/x-python",
   "name": "python",
   "nbconvert_exporter": "python",
   "pygments_lexer": "ipython3",
   "version": "3.10.15"
  }
 },
 "nbformat": 4,
 "nbformat_minor": 2
}
