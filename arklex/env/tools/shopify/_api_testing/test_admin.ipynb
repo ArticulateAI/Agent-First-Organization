{
 "cells": [
  {
   "cell_type": "code",
   "execution_count": null,
   "metadata": {},
   "outputs": [
    {
     "name": "stdout",
     "output_type": "stream",
     "text": [
      "The autoreload extension is already loaded. To reload it, use:\n",
      "  %reload_ext autoreload\n"
     ]
    }
   ],
   "source": [
    "import os\n",
    "os.chdir(\"/Users/isaac/programming/articulateai/AgentOrg\")\n",
    "\n",
    "from arklex.env.tools.tools import untool\n",
    "\n",
    "import shopify\n",
    "\n",
    "from dotenv import load_dotenv\n",
    "load_dotenv()\n",
    "\n",
    "%load_ext autoreload\n",
    "%autoreload 2"
   ]
  },
  {
   "cell_type": "code",
   "execution_count": 3,
   "metadata": {},
   "outputs": [],
   "source": [
    "session = shopify.Session(os.environ[\"SHOPIFY_SHOP_URL\"], os.environ[\"SHOPIFY_API_VERSION\"], os.environ[\"SHOPIFY_ACCESS_TOKEN\"])\n",
    "shopify.ShopifyResource.activate_session(session)"
   ]
  },
  {
   "cell_type": "code",
   "execution_count": null,
   "metadata": {},
   "outputs": [
    {
     "data": {
      "text/plain": [
       "([{'id': 'gid://shopify/Product/7296580845681'},\n",
       "  {'id': 'gid://shopify/Product/7296581566577'},\n",
       "  {'id': 'gid://shopify/Product/7296581763185'},\n",
       "  {'id': 'gid://shopify/Product/7296581894257'},\n",
       "  {'id': 'gid://shopify/Product/7296582090865'},\n",
       "  {'id': 'gid://shopify/Product/7296582123633'},\n",
       "  {'id': 'gid://shopify/Product/7296582287473'}],\n",
       " {'endCursor': 'eyJsYXN0X2lkIjo3Mjk2NTgyMjg3NDczLCJsYXN0X3ZhbHVlIjo3Mjk2NTgyMjg3NDczfQ==',\n",
       "  'hasNextPage': False,\n",
       "  'hasPreviousPage': False,\n",
       "  'startCursor': 'eyJsYXN0X2lkIjo3Mjk2NTgwODQ1NjgxLCJsYXN0X3ZhbHVlIjo3Mjk2NTgwODQ1NjgxfQ=='})"
      ]
     },
     "metadata": {},
     "output_type": "display_data"
    }
   ],
   "source": [
    "from arklex.env.tools.shopify.search_products import search_products\n",
    "search_products = untool(search_products)\n",
    "\n",
    "search_results = search_products(\"Bedding\")\n",
    "display(search_results)"
   ]
  },
  {
   "cell_type": "code",
   "execution_count": null,
   "metadata": {},
   "outputs": [
    {
     "data": {
      "text/plain": [
       "([{'title': 'Beddings and Pillows',\n",
       "   'description': '',\n",
       "   'productsCount': {'count': 6},\n",
       "   'products': {'nodes': [{'title': 'Bedding Set Solid Color Luxury Bedding Kit Rayon Satin Duvet Cover Set Twin Queen King Size Bed Set 2pcs/3pcs/4pcs',\n",
       "      'description': 'Brand Name: FLOWERS AND CAKESMaterial: Rayonis_customized: NoSuitable Region: North AmericaType: Duvetcover&2pcs Pillowcase&1sheetStyle: SolidFabirc Construction: 120gsmOrigin: CN(Origin)Process Technique: QuiltingFabirc Style: TwillApplication Size: 1.0m (3.3 feet)Application Size: 1.2m (4 feet)Application Size: 1.35m (4.5 feet)Application Size: 1.5m (5 feet)Application Size: 1.8m (6 feet)Application Size: 2.0m (6.6 feet)Application Size: 2.2m (7 feet)Quantity: 4 pcsWeight: 1kg-1.6kgColor Fastness (Grade): National Standards',\n",
       "      'id': 'gid://shopify/Product/7296581763185'},\n",
       "     {'title': 'Marble Pattern Printed Duvet Cover Set With Zipper Closure Bedding Sets &amp; Comforter Covet  Pillow',\n",
       "      'description': 'Brand Name: JoyajafagMaterial: Microfiber FabricFilling: Noneis_customized: YesSuitable Region: Eastern EuropeType: Duvetcover&2pcs PillowcaseStyle: 3D PrintFabirc Construction: 350gsmOrigin: CN(Origin)Process Technique: BasicFabirc Style: PlainApplication Size: 1.0m (3.3 feet)Application Size: 1.2m (4 feet)Application Size: 1.35m (4.5 feet)Application Size: 1.5m (5 feet)Application Size: 1.8m (6 feet)Application Size: 2.0m (6.6 feet)Application Size: 2.2m (7 feet)Application Size: 2.5m (8 feet)Application Size: 2.8m (9 feet)Quantity: 3 pcsWeight: 1KGColor Fastness (Grade): National Standards',\n",
       "      'id': 'gid://shopify/Product/7296582090865'},\n",
       "     {'title': 'Soft Skin-friendly Flannel Duvet Cover Dual-use Winter Warm Quilt Cover for Adults Children Thick Comforter Cover',\n",
       "      'description': 'Brand Name: x-cultureOrigin: CN(Origin)Grade: Grade APattern: Plain Dyedis_customized: NoStyle: PlainMaterial: 100% PolyesterTechnics: WovenUse: HomeUse: HOTELThread Count: 200TCPattern Type: SolidModel Number: multifunctional duvet coverWeight: 1200-2100gAge Group: AdultsFabric Count: 40Duvet Cover Size(approx.): 150x200/180x220/200x230/220x240cmDuvet cover Color: two colors on both sidesPillowcase Color: The pillowcase is the same color on both sides.Pillowcase Size(approx.): 48x74cm',\n",
       "      'id': 'gid://shopify/Product/7296582025329'},\n",
       "     {'title': 'Nordic Simple Bedding Set Adult Duvet Cover Sets Bedclothes Bed Linen Sheet Single Double Queen King size Qulit Covers 240/220',\n",
       "      'description': 'Origin: CN(Origin)Grade: Grade APattern: PRINTEDis_customized: NoStyle: ModernMaterial: 100% PolyesterTechnics: WovenUse: HomeThread Count: 400TCPattern Type: PLANTModel Number: YH0012/YH0049/YH0056/JB0060/0050009Weight: 0.9KG-1.5KGAge Group: For Kids and adult bedding sets (housse de couette)Fabric Count: 60Color: Green/Black/White/Grey/YellowMaterial: Soft Polyester (Not include comforter/quiltApplication Size: 1.5m (5 feet),1.8m (6 feet),2.0m (6.6 feet),2.2m (7 feet)Type: Pillowcases & Duvet Cover Sets (Without Comforter/Quilt)Size Chart: Single, Double, Queen, KingPillowcase size: 48 cm X 74 cm = 19 in X 29 inQuantity: 3/4Pcs Bedding Set / BedclothesSupport: Wholesale & DropshippingSeason: Spring/Summer/Autumn/WinterType1: Bed Linens / Flat Bed Sheet',\n",
       "      'id': 'gid://shopify/Product/7296581894257'},\n",
       "     {'title': 'Inyahome New Art Velvet Yellow Blue Pink Solid Color Cushion Cover Pillow Cover Pillow Case Home Decorative Sofa Throw Decor',\n",
       "      'description': 'Origin: CN(Origin)Type: CusionFeature: MassageSet Type: NoUnpick and Wash: Removable and Washableis_customized: NoStyle: Japan StyleModel Number: 615860577068Technics: WovenShape: RectangleUse: SeatPattern Type: SolidFilling: ppcottonMaterial: Polyester / CottonAge Group: Adults',\n",
       "      'id': 'gid://shopify/Product/7296581337201'}]}},\n",
       "  {'title': 'Bedding',\n",
       "   'description': '',\n",
       "   'productsCount': {'count': 4},\n",
       "   'products': {'nodes': [{'title': 'Bedding Set Solid Color Luxury Bedding Kit Rayon Satin Duvet Cover Set Twin Queen King Size Bed Set 2pcs/3pcs/4pcs',\n",
       "      'description': 'Brand Name: FLOWERS AND CAKESMaterial: Rayonis_customized: NoSuitable Region: North AmericaType: Duvetcover&2pcs Pillowcase&1sheetStyle: SolidFabirc Construction: 120gsmOrigin: CN(Origin)Process Technique: QuiltingFabirc Style: TwillApplication Size: 1.0m (3.3 feet)Application Size: 1.2m (4 feet)Application Size: 1.35m (4.5 feet)Application Size: 1.5m (5 feet)Application Size: 1.8m (6 feet)Application Size: 2.0m (6.6 feet)Application Size: 2.2m (7 feet)Quantity: 4 pcsWeight: 1kg-1.6kgColor Fastness (Grade): National Standards',\n",
       "      'id': 'gid://shopify/Product/7296581763185'},\n",
       "     {'title': 'Bedding Comforter Cover Sets with 3D Seaside Print Kids Teens Duvet Covet with Ocean Theme Bedding Quilt Cover Zipper Closure',\n",
       "      'description': 'Brand Name: AbosbeetOrigin: CN(Origin)Pattern Type: PrintApplication Size: 1.0m (3.3 feet)Application Size: 1.2m (4 feet)Application Size: 1.35m (4.5 feet)Application Size: 1.5m (5 feet)Application Size: 1.8m (6 feet)Application Size: 2.0m (6.6 feet)Application Size: 2.2m (7 feet)Application Size: 2.5m (8 feet)Application Size: 2.8m (9 feet)GSM: 100gsmThread Count: 300TCMaterial: Microfiber FabricFabric Count: 30Grade: Grade AColor Fastness (Grade): National StandardsPattern: PRINTEDModel Number: 01389AStyle: ModernTechnics: Reactive PrintingUse: HomeQuantity: 3 pcsis_customized: NoWeight: 1.5',\n",
       "      'id': 'gid://shopify/Product/7296582123633'},\n",
       "     {'title': 'Marble Pattern Printed Duvet Cover Set With Zipper Closure Bedding Sets &amp; Comforter Covet  Pillow',\n",
       "      'description': 'Brand Name: JoyajafagMaterial: Microfiber FabricFilling: Noneis_customized: YesSuitable Region: Eastern EuropeType: Duvetcover&2pcs PillowcaseStyle: 3D PrintFabirc Construction: 350gsmOrigin: CN(Origin)Process Technique: BasicFabirc Style: PlainApplication Size: 1.0m (3.3 feet)Application Size: 1.2m (4 feet)Application Size: 1.35m (4.5 feet)Application Size: 1.5m (5 feet)Application Size: 1.8m (6 feet)Application Size: 2.0m (6.6 feet)Application Size: 2.2m (7 feet)Application Size: 2.5m (8 feet)Application Size: 2.8m (9 feet)Quantity: 3 pcsWeight: 1KGColor Fastness (Grade): National Standards',\n",
       "      'id': 'gid://shopify/Product/7296582090865'},\n",
       "     {'title': 'Nordic Simple Bedding Set Adult Duvet Cover Sets Bedclothes Bed Linen Sheet Single Double Queen King size Qulit Covers 240/220',\n",
       "      'description': 'Origin: CN(Origin)Grade: Grade APattern: PRINTEDis_customized: NoStyle: ModernMaterial: 100% PolyesterTechnics: WovenUse: HomeThread Count: 400TCPattern Type: PLANTModel Number: YH0012/YH0049/YH0056/JB0060/0050009Weight: 0.9KG-1.5KGAge Group: For Kids and adult bedding sets (housse de couette)Fabric Count: 60Color: Green/Black/White/Grey/YellowMaterial: Soft Polyester (Not include comforter/quiltApplication Size: 1.5m (5 feet),1.8m (6 feet),2.0m (6.6 feet),2.2m (7 feet)Type: Pillowcases & Duvet Cover Sets (Without Comforter/Quilt)Size Chart: Single, Double, Queen, KingPillowcase size: 48 cm X 74 cm = 19 in X 29 inQuantity: 3/4Pcs Bedding Set / BedclothesSupport: Wholesale & DropshippingSeason: Spring/Summer/Autumn/WinterType1: Bed Linens / Flat Bed Sheet',\n",
       "      'id': 'gid://shopify/Product/7296581894257'}]}}],\n",
       " {'endCursor': 'eyJsYXN0X2lkIjoyODQ2MDc3MDkyOTcsImxhc3RfdmFsdWUiOjI4NDYwNzcwOTI5N30=',\n",
       "  'hasNextPage': False,\n",
       "  'hasPreviousPage': False,\n",
       "  'startCursor': 'eyJsYXN0X2lkIjoyODQwMjMyOTIwMTcsImxhc3RfdmFsdWUiOjI4NDAyMzI5MjAxN30='})"
      ]
     },
     "metadata": {},
     "output_type": "display_data"
    }
   ],
   "source": [
    "from arklex.env.tools.shopify.search_collections import search_collections\n",
    "search_collections = untool(search_collections)\n",
    "\n",
    "search_results = search_collections(\"Bedding\")\n",
    "display(search_results)"
   ]
  },
  {
   "cell_type": "code",
   "execution_count": null,
   "metadata": {},
   "outputs": [
    {
     "data": {
      "text/plain": [
       "([{'title': 'Beddings and Pillows',\n",
       "   'description': '',\n",
       "   'productsCount': {'count': 6},\n",
       "   'products': {'nodes': [{'title': 'Bedding Set Solid Color Luxury Bedding Kit Rayon Satin Duvet Cover Set Twin Queen King Size Bed Set 2pcs/3pcs/4pcs',\n",
       "      'description': 'Brand Name: FLOWERS AND CAKESMaterial: Rayonis_customized: NoSuitable Region: North AmericaType: Duvetcover&2pcs Pillowcase&1sheetStyle: SolidFabirc Construction: 120gsmOrigin: CN(Origin)Process Technique: QuiltingFabirc Style: TwillApplication Size: 1.0m (3.3 feet)Application Size: 1.2m (4 feet)Application Size: 1.35m (4.5 feet)Application Size: 1.5m (5 feet)Application Size: 1.8m (6 feet)Application Size: 2.0m (6.6 feet)Application Size: 2.2m (7 feet)Quantity: 4 pcsWeight: 1kg-1.6kgColor Fastness (Grade): National Standards',\n",
       "      'id': 'gid://shopify/Product/7296581763185'},\n",
       "     {'title': 'Marble Pattern Printed Duvet Cover Set With Zipper Closure Bedding Sets &amp; Comforter Covet  Pillow',\n",
       "      'description': 'Brand Name: JoyajafagMaterial: Microfiber FabricFilling: Noneis_customized: YesSuitable Region: Eastern EuropeType: Duvetcover&2pcs PillowcaseStyle: 3D PrintFabirc Construction: 350gsmOrigin: CN(Origin)Process Technique: BasicFabirc Style: PlainApplication Size: 1.0m (3.3 feet)Application Size: 1.2m (4 feet)Application Size: 1.35m (4.5 feet)Application Size: 1.5m (5 feet)Application Size: 1.8m (6 feet)Application Size: 2.0m (6.6 feet)Application Size: 2.2m (7 feet)Application Size: 2.5m (8 feet)Application Size: 2.8m (9 feet)Quantity: 3 pcsWeight: 1KGColor Fastness (Grade): National Standards',\n",
       "      'id': 'gid://shopify/Product/7296582090865'},\n",
       "     {'title': 'Soft Skin-friendly Flannel Duvet Cover Dual-use Winter Warm Quilt Cover for Adults Children Thick Comforter Cover',\n",
       "      'description': 'Brand Name: x-cultureOrigin: CN(Origin)Grade: Grade APattern: Plain Dyedis_customized: NoStyle: PlainMaterial: 100% PolyesterTechnics: WovenUse: HomeUse: HOTELThread Count: 200TCPattern Type: SolidModel Number: multifunctional duvet coverWeight: 1200-2100gAge Group: AdultsFabric Count: 40Duvet Cover Size(approx.): 150x200/180x220/200x230/220x240cmDuvet cover Color: two colors on both sidesPillowcase Color: The pillowcase is the same color on both sides.Pillowcase Size(approx.): 48x74cm',\n",
       "      'id': 'gid://shopify/Product/7296582025329'},\n",
       "     {'title': 'Nordic Simple Bedding Set Adult Duvet Cover Sets Bedclothes Bed Linen Sheet Single Double Queen King size Qulit Covers 240/220',\n",
       "      'description': 'Origin: CN(Origin)Grade: Grade APattern: PRINTEDis_customized: NoStyle: ModernMaterial: 100% PolyesterTechnics: WovenUse: HomeThread Count: 400TCPattern Type: PLANTModel Number: YH0012/YH0049/YH0056/JB0060/0050009Weight: 0.9KG-1.5KGAge Group: For Kids and adult bedding sets (housse de couette)Fabric Count: 60Color: Green/Black/White/Grey/YellowMaterial: Soft Polyester (Not include comforter/quiltApplication Size: 1.5m (5 feet),1.8m (6 feet),2.0m (6.6 feet),2.2m (7 feet)Type: Pillowcases & Duvet Cover Sets (Without Comforter/Quilt)Size Chart: Single, Double, Queen, KingPillowcase size: 48 cm X 74 cm = 19 in X 29 inQuantity: 3/4Pcs Bedding Set / BedclothesSupport: Wholesale & DropshippingSeason: Spring/Summer/Autumn/WinterType1: Bed Linens / Flat Bed Sheet',\n",
       "      'id': 'gid://shopify/Product/7296581894257'},\n",
       "     {'title': 'Inyahome New Art Velvet Yellow Blue Pink Solid Color Cushion Cover Pillow Cover Pillow Case Home Decorative Sofa Throw Decor',\n",
       "      'description': 'Origin: CN(Origin)Type: CusionFeature: MassageSet Type: NoUnpick and Wash: Removable and Washableis_customized: NoStyle: Japan StyleModel Number: 615860577068Technics: WovenShape: RectangleUse: SeatPattern Type: SolidFilling: ppcottonMaterial: Polyester / CottonAge Group: Adults',\n",
       "      'id': 'gid://shopify/Product/7296581337201'}]}},\n",
       "  {'title': 'Bedding',\n",
       "   'description': '',\n",
       "   'productsCount': {'count': 4},\n",
       "   'products': {'nodes': [{'title': 'Bedding Set Solid Color Luxury Bedding Kit Rayon Satin Duvet Cover Set Twin Queen King Size Bed Set 2pcs/3pcs/4pcs',\n",
       "      'description': 'Brand Name: FLOWERS AND CAKESMaterial: Rayonis_customized: NoSuitable Region: North AmericaType: Duvetcover&2pcs Pillowcase&1sheetStyle: SolidFabirc Construction: 120gsmOrigin: CN(Origin)Process Technique: QuiltingFabirc Style: TwillApplication Size: 1.0m (3.3 feet)Application Size: 1.2m (4 feet)Application Size: 1.35m (4.5 feet)Application Size: 1.5m (5 feet)Application Size: 1.8m (6 feet)Application Size: 2.0m (6.6 feet)Application Size: 2.2m (7 feet)Quantity: 4 pcsWeight: 1kg-1.6kgColor Fastness (Grade): National Standards',\n",
       "      'id': 'gid://shopify/Product/7296581763185'},\n",
       "     {'title': 'Bedding Comforter Cover Sets with 3D Seaside Print Kids Teens Duvet Covet with Ocean Theme Bedding Quilt Cover Zipper Closure',\n",
       "      'description': 'Brand Name: AbosbeetOrigin: CN(Origin)Pattern Type: PrintApplication Size: 1.0m (3.3 feet)Application Size: 1.2m (4 feet)Application Size: 1.35m (4.5 feet)Application Size: 1.5m (5 feet)Application Size: 1.8m (6 feet)Application Size: 2.0m (6.6 feet)Application Size: 2.2m (7 feet)Application Size: 2.5m (8 feet)Application Size: 2.8m (9 feet)GSM: 100gsmThread Count: 300TCMaterial: Microfiber FabricFabric Count: 30Grade: Grade AColor Fastness (Grade): National StandardsPattern: PRINTEDModel Number: 01389AStyle: ModernTechnics: Reactive PrintingUse: HomeQuantity: 3 pcsis_customized: NoWeight: 1.5',\n",
       "      'id': 'gid://shopify/Product/7296582123633'},\n",
       "     {'title': 'Marble Pattern Printed Duvet Cover Set With Zipper Closure Bedding Sets &amp; Comforter Covet  Pillow',\n",
       "      'description': 'Brand Name: JoyajafagMaterial: Microfiber FabricFilling: Noneis_customized: YesSuitable Region: Eastern EuropeType: Duvetcover&2pcs PillowcaseStyle: 3D PrintFabirc Construction: 350gsmOrigin: CN(Origin)Process Technique: BasicFabirc Style: PlainApplication Size: 1.0m (3.3 feet)Application Size: 1.2m (4 feet)Application Size: 1.35m (4.5 feet)Application Size: 1.5m (5 feet)Application Size: 1.8m (6 feet)Application Size: 2.0m (6.6 feet)Application Size: 2.2m (7 feet)Application Size: 2.5m (8 feet)Application Size: 2.8m (9 feet)Quantity: 3 pcsWeight: 1KGColor Fastness (Grade): National Standards',\n",
       "      'id': 'gid://shopify/Product/7296582090865'},\n",
       "     {'title': 'Nordic Simple Bedding Set Adult Duvet Cover Sets Bedclothes Bed Linen Sheet Single Double Queen King size Qulit Covers 240/220',\n",
       "      'description': 'Origin: CN(Origin)Grade: Grade APattern: PRINTEDis_customized: NoStyle: ModernMaterial: 100% PolyesterTechnics: WovenUse: HomeThread Count: 400TCPattern Type: PLANTModel Number: YH0012/YH0049/YH0056/JB0060/0050009Weight: 0.9KG-1.5KGAge Group: For Kids and adult bedding sets (housse de couette)Fabric Count: 60Color: Green/Black/White/Grey/YellowMaterial: Soft Polyester (Not include comforter/quiltApplication Size: 1.5m (5 feet),1.8m (6 feet),2.0m (6.6 feet),2.2m (7 feet)Type: Pillowcases & Duvet Cover Sets (Without Comforter/Quilt)Size Chart: Single, Double, Queen, KingPillowcase size: 48 cm X 74 cm = 19 in X 29 inQuantity: 3/4Pcs Bedding Set / BedclothesSupport: Wholesale & DropshippingSeason: Spring/Summer/Autumn/WinterType1: Bed Linens / Flat Bed Sheet',\n",
       "      'id': 'gid://shopify/Product/7296581894257'}]}}],\n",
       " {'endCursor': 'eyJsYXN0X2lkIjoyODQ2MDc3MDkyOTcsImxhc3RfdmFsdWUiOiIyODQ2MDc3MDkyOTcifQ==',\n",
       "  'hasNextPage': False,\n",
       "  'hasPreviousPage': False,\n",
       "  'startCursor': 'eyJsYXN0X2lkIjoyODQwMjMyOTIwMTcsImxhc3RfdmFsdWUiOiIyODQwMjMyOTIwMTcifQ=='})"
      ]
     },
     "metadata": {},
     "output_type": "display_data"
    }
   ],
   "source": [
    "from arklex.env.tools.shopify.preview_collections import preview_collections\n",
    "preview_collections = untool(preview_collections)\n",
    "\n",
    "search_results = preview_collections([\"gid://shopify/Collection/284023292017\", 'gid://shopify/Collection/284607709297'])\n",
    "display(search_results)"
   ]
  },
  {
   "cell_type": "code",
   "execution_count": null,
   "metadata": {},
   "outputs": [
    {
     "data": {
      "text/plain": [
       "{'title': 'Beddings and Pillows',\n",
       " 'description': '',\n",
       " 'productsCount': {'count': 6},\n",
       " 'products': {'nodes': [{'id': 'gid://shopify/Product/7296581763185'},\n",
       "   {'id': 'gid://shopify/Product/7296582090865'}],\n",
       "  'pageInfo': {'endCursor': 'eyJsYXN0X2lkIjo3Mjk2NTgyMDkwODY1LCJsYXN0X3ZhbHVlIjoiMCJ9',\n",
       "   'hasNextPage': True,\n",
       "   'hasPreviousPage': False,\n",
       "   'startCursor': 'eyJsYXN0X2lkIjo3Mjk2NTgxNzYzMTg1LCJsYXN0X3ZhbHVlIjoiNyJ9'}}}"
      ]
     },
     "metadata": {},
     "output_type": "display_data"
    },
    {
     "data": {
      "text/plain": [
       "{'title': 'Beddings and Pillows',\n",
       " 'description': '',\n",
       " 'productsCount': {'count': 6},\n",
       " 'products': {'nodes': [{'id': 'gid://shopify/Product/7296582025329'},\n",
       "   {'id': 'gid://shopify/Product/7296581894257'},\n",
       "   {'id': 'gid://shopify/Product/7296581337201'},\n",
       "   {'id': 'gid://shopify/Product/7296581075057'}],\n",
       "  'pageInfo': {'endCursor': 'eyJsYXN0X2lkIjo3Mjk2NTgxMDc1MDU3LCJsYXN0X3ZhbHVlIjoiMCJ9',\n",
       "   'hasNextPage': False,\n",
       "   'hasPreviousPage': True,\n",
       "   'startCursor': 'eyJsYXN0X2lkIjo3Mjk2NTgyMDI1MzI5LCJsYXN0X3ZhbHVlIjoiMCJ9'}}}"
      ]
     },
     "metadata": {},
     "output_type": "display_data"
    }
   ],
   "source": [
    "from arklex.env.tools.shopify.get_collection import get_collection\n",
    "get_collection = untool(get_collection)\n",
    "\n",
    "search_results = get_collection(\"gid://shopify/Collection/284023292017\", limit=2)\n",
    "display(search_results[0])\n",
    "\n",
    "display(get_collection(\"gid://shopify/Collection/284023292017\", limit=5, navigate=\"next\", pageInfo=search_results[1])[0])"
   ]
  },
  {
   "cell_type": "code",
   "execution_count": null,
   "metadata": {},
   "outputs": [
    {
     "data": {
      "text/plain": [
       "([{'id': 'gid://shopify/Product/7296581337201',\n",
       "   'title': 'Inyahome New Art Velvet Yellow Blue Pink Solid Color Cushion Cover Pillow Cover Pillow Case Home Decorative Sofa Throw Decor',\n",
       "   'description': 'Origin: CN(Origin)Type: CusionFeature: MassageSet Type: NoUnpick and Wash: Removable and Washableis_customized: NoStyle: Japan StyleModel Number: 615860577068Technics: WovenShape: RectangleUse: SeatPattern Type: SolidFilling: ppcottonMaterial: Polyester / CottonAge Group: Adults',\n",
       "   'totalInventory': 83770,\n",
       "   'onlineStoreUrl': 'https://xu1e3z-yi.myshopify.com/products/inyahome-new-art-velvet-yellow-blue-pink-solid-color-cushion-cover-pillow-cover-pillow-case-home-decorative-sofa-throw-decor',\n",
       "   'category': None,\n",
       "   'variants': {'nodes': [{'displayName': 'Inyahome New Art Velvet Yellow Blue Pink Solid Color Cushion Cover Pillow Cover Pillow Case Home Decorative Sofa Throw Decor - 10 dark green / 30x50cm no filling',\n",
       "      'id': 'gid://shopify/ProductVariant/41552094494833',\n",
       "      'price': '8.99',\n",
       "      'inventoryQuantity': 2017},\n",
       "     {'displayName': 'Inyahome New Art Velvet Yellow Blue Pink Solid Color Cushion Cover Pillow Cover Pillow Case Home Decorative Sofa Throw Decor - 5  winered / 50x50cm no filling',\n",
       "      'id': 'gid://shopify/ProductVariant/41552094527601',\n",
       "      'price': '16.99',\n",
       "      'inventoryQuantity': 2253}]}},\n",
       "  {'id': 'gid://shopify/Product/7296581894257',\n",
       "   'title': 'Nordic Simple Bedding Set Adult Duvet Cover Sets Bedclothes Bed Linen Sheet Single Double Queen King size Qulit Covers 240/220',\n",
       "   'description': 'Origin: CN(Origin)Grade: Grade APattern: PRINTEDis_customized: NoStyle: ModernMaterial: 100% PolyesterTechnics: WovenUse: HomeThread Count: 400TCPattern Type: PLANTModel Number: YH0012/YH0049/YH0056/JB0060/0050009Weight: 0.9KG-1.5KGAge Group: For Kids and adult bedding sets (housse de couette)Fabric Count: 60Color: Green/Black/White/Grey/YellowMaterial: Soft Polyester (Not include comforter/quiltApplication Size: 1.5m (5 feet),1.8m (6 feet),2.0m (6.6 feet),2.2m (7 feet)Type: Pillowcases & Duvet Cover Sets (Without Comforter/Quilt)Size Chart: Single, Double, Queen, KingPillowcase size: 48 cm X 74 cm = 19 in X 29 inQuantity: 3/4Pcs Bedding Set / BedclothesSupport: Wholesale & DropshippingSeason: Spring/Summer/Autumn/WinterType1: Bed Linens / Flat Bed Sheet',\n",
       "   'totalInventory': 0,\n",
       "   'onlineStoreUrl': 'https://xu1e3z-yi.myshopify.com/products/nordic-simple-bedding-set-adult-duvet-cover-sets-bedclothes-bed-linen-sheet-single-double-queen-king-size-qulit-covers-240-220',\n",
       "   'category': None,\n",
       "   'variants': {'nodes': [{'displayName': 'Nordic Simple Bedding Set Adult Duvet Cover Sets Bedclothes Bed Linen Sheet Single Double Queen King size Qulit Covers 240/220 - Default Title',\n",
       "      'id': 'gid://shopify/ProductVariant/41552104226929',\n",
       "      'price': '50.99',\n",
       "      'inventoryQuantity': 0}]}}],\n",
       " {'endCursor': 'eyJsYXN0X2lkIjo3Mjk2NTgxODk0MjU3LCJsYXN0X3ZhbHVlIjoiNzI5NjU4MTg5NDI1NyJ9',\n",
       "  'hasNextPage': False,\n",
       "  'hasPreviousPage': False,\n",
       "  'startCursor': 'eyJsYXN0X2lkIjo3Mjk2NTgxMzM3MjAxLCJsYXN0X3ZhbHVlIjoiNzI5NjU4MTMzNzIwMSJ9'})"
      ]
     },
     "metadata": {},
     "output_type": "display_data"
    }
   ],
   "source": [
    "from arklex.env.tools.shopify.get_products import get_products\n",
    "get_products = untool(get_products)\n",
    "\n",
    "search_results = get_products([\"gid://shopify/Product/7296581894257\", \"gid://shopify/Product/7296581337201\"])\n",
    "display(search_results)\n",
    "\n",
    "# display(get_collection(\"gid://shopify/Collection/284023292017\", limit=5, navigate=\"next\", pageInfo=search_results[1])[0])"
   ]
  },
  {
   "cell_type": "code",
   "execution_count": null,
   "metadata": {},
   "outputs": [
    {
     "data": {
      "text/plain": [
       "({'firstName': 'Zhou',\n",
       "  'lastName': 'Yu',\n",
       "  'email': 'echoyuzhou@gmail.com',\n",
       "  'phone': '+14129444815',\n",
       "  'numberOfOrders': '1',\n",
       "  'amountSpent': {'amount': '76.99', 'currencyCode': 'USD'},\n",
       "  'createdAt': '2025-01-07T22:21:37Z',\n",
       "  'updatedAt': '2025-01-29T16:56:31Z',\n",
       "  'note': None,\n",
       "  'verifiedEmail': True,\n",
       "  'validEmailAddress': True,\n",
       "  'tags': ['newsletter'],\n",
       "  'lifetimeDuration': '24 days',\n",
       "  'defaultAddress': {'formattedArea': 'New York NY, United States',\n",
       "   'address1': '350 West 42nd Street #55d'},\n",
       "  'addresses': [{'address1': '350 West 42nd Street #55d'}],\n",
       "  'orders': {'nodes': [{'id': 'gid://shopify/Order/5879511908465'}],\n",
       "   'pageInfo': {'endCursor': 'eyJsYXN0X2lkIjo1ODc5NTExOTA4NDY1LCJsYXN0X3ZhbHVlIjoiNTg3OTUxMTkwODQ2NSJ9',\n",
       "    'hasNextPage': False,\n",
       "    'hasPreviousPage': False,\n",
       "    'startCursor': 'eyJsYXN0X2lkIjo1ODc5NTExOTA4NDY1LCJsYXN0X3ZhbHVlIjoiNTg3OTUxMTkwODQ2NSJ9'}}},\n",
       " {'endCursor': 'eyJsYXN0X2lkIjo1ODc5NTExOTA4NDY1LCJsYXN0X3ZhbHVlIjoiNTg3OTUxMTkwODQ2NSJ9',\n",
       "  'hasNextPage': False,\n",
       "  'hasPreviousPage': False,\n",
       "  'startCursor': 'eyJsYXN0X2lkIjo1ODc5NTExOTA4NDY1LCJsYXN0X3ZhbHVlIjoiNTg3OTUxMTkwODQ2NSJ9'})"
      ]
     },
     "metadata": {},
     "output_type": "display_data"
    }
   ],
   "source": [
    "from arklex.env.tools.shopify.get_user_details_admin import get_user_details_admin\n",
    "get_user_details_admin = untool(get_user_details_admin)\n",
    "\n",
    "search_results = get_user_details_admin(\"gid://shopify/Customer/7522218606705\")\n",
    "display(search_results)"
   ]
  },
  {
   "cell_type": "code",
   "execution_count": null,
   "metadata": {},
   "outputs": [],
   "source": [
    "from arklex.env.tools.shopify.get_order_admin import get_order_admin\n",
    "get_order_admin = untool(get_order_admin)\n",
    "\n",
    "search_results = get_order_admin(\"gid://shopify/Order/5879511908465\")\n",
    "display(search_results)"
   ]
  }
 ],
 "metadata": {
  "kernelspec": {
   "display_name": "agentorg",
   "language": "python",
   "name": "python3"
  },
  "language_info": {
   "codemirror_mode": {
    "name": "ipython",
    "version": 3
   },
   "file_extension": ".py",
   "mimetype": "text/x-python",
   "name": "python",
   "nbconvert_exporter": "python",
   "pygments_lexer": "ipython3",
   "version": "3.10.15"
  }
 },
 "nbformat": 4,
 "nbformat_minor": 2
}
